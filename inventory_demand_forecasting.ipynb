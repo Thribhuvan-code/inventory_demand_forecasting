{
 "cells": [
  {
   "cell_type": "markdown",
   "metadata": {},
   "source": [
    "# 📊 Inventory Demand Forecasting with Prophet\n",
    "Forecast daily product demand using Facebook Prophet."
   ]
  },
  {
   "cell_type": "code",
   "execution_count": null,
   "metadata": {},
   "outputs": [],
   "source": [
    "# Install Prophet if not already installed\n",
    "!pip install prophet"
   ]
  },
  {
   "cell_type": "code",
   "execution_count": null,
   "metadata": {},
   "outputs": [],
   "source": [
    "import pandas as pd\n",
    "import numpy as np"
   ]
  },
  {
   "cell_type": "markdown",
   "metadata": {},
   "source": [
    "## 🔧 Generate Sample Sales Data"
   ]
  },
  {
   "cell_type": "code",
   "execution_count": null,
   "metadata": {},
   "outputs": [],
   "source": [
    "date_range = pd.date_range(start=\"2023-01-01\", end=\"2024-12-31\", freq=\"D\")\n",
    "np.random.seed(42)\n",
    "data = []\n",
    "products = ['PROD_A', 'PROD_B', 'PROD_C']\n",
    "for product in products:\n",
    "    base_demand = np.random.randint(20, 100)\n",
    "    seasonal = np.sin(np.linspace(0, 10 * np.pi, len(date_range))) * 10\n",
    "    noise = np.random.normal(0, 5, len(date_range))\n",
    "    sales = base_demand + seasonal + noise\n",
    "    sales = np.maximum(sales, 0).astype(int)\n",
    "    df = pd.DataFrame({\n",
    "        'date': date_range,\n",
    "        'product_id': product,\n",
    "        'sales': sales\n",
    "    })\n",
    "    data.append(df)\n",
    "sales_data = pd.concat(data, ignore_index=True)\n",
    "sales_data.head()"
   ]
  },
  {
   "cell_type": "markdown",
   "metadata": {},
   "source": [
    "## 🔮 Forecast Using Prophet"
   ]
  },
  {
   "cell_type": "code",
   "execution_count": null,
   "metadata": {},
   "outputs": [],
   "source": [
    "from prophet import Prophet\n",
    "import matplotlib.pyplot as plt\n",
    "product_df = sales_data[sales_data['product_id'] == 'PROD_A'][['date', 'sales']].copy()\n",
    "product_df = product_df.rename(columns={'date': 'ds', 'sales': 'y'})\n",
    "model = Prophet(daily_seasonality=True, yearly_seasonality=True)\n",
    "model.fit(product_df)\n",
    "future = model.make_future_dataframe(periods=90)\n",
    "forecast = model.predict(future)\n",
    "fig1 = model.plot(forecast)\n",
    "plt.title(\"Sales Forecast for PROD_A\")\n",
    "plt.xlabel(\"Date\")\n",
    "plt.ylabel(\"Sales\")\n",
    "plt.tight_layout()\n",
    "plt.show()\n",
    "forecast[['ds', 'yhat', 'yhat_lower', 'yhat_upper']].tail()"
   ]
  }
 ],
 "metadata": {
  "kernelspec": {
   "display_name": "Python 3",
   "language": "python",
   "name": "python3"
  },
  "language_info": {
   "name": "python",
   "version": ""
  }
 },
 "nbformat": 4,
 "nbformat_minor": 2
}
